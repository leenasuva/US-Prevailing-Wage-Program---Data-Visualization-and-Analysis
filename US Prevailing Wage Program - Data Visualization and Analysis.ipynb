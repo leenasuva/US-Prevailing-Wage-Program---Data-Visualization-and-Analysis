{
 "cells": [
  {
   "cell_type": "code",
   "execution_count": null,
   "id": "334a3460",
   "metadata": {},
   "outputs": [],
   "source": [
    "# Importing required libraries\n",
    "\n",
    "import pandas as pd\n",
    "import matplotlib.pyplot as plt\n",
    "import plotly.graph_objects as go\n",
    "import seaborn as sns\n",
    "import plotly.express as px\n",
    "import numpy as np\n",
    "import json\n",
    "import folium"
   ]
  },
  {
   "cell_type": "markdown",
   "id": "b1e567c8",
   "metadata": {},
   "source": [
    "## Data Collection:"
   ]
  },
  {
   "cell_type": "code",
   "execution_count": null,
   "id": "b4e92206",
   "metadata": {},
   "outputs": [],
   "source": [
    "# Reading the raw data files\n",
    "\n",
    "df_2012 = pd.read_excel('./Disclosure Files/PW_FY2012.xlsx')\n",
    "df_2013 = pd.read_excel('./Disclosure Files/PW_FY2013.xlsx')\n",
    "df_2014 = pd.read_excel('./Disclosure Files/PW_Case_Data_FY2014.xlsx')\n",
    "df_2015 = pd.read_excel('./Disclosure Files/PW_Disclosure_Data_FY15_Q4.xlsx')\n",
    "df_2016 = pd.read_excel('./Disclosure Files/PW_Disclosure_Data_FY16.xlsx')\n",
    "df_2017 = pd.read_excel('./Disclosure Files/PW_Disclosure_Data_FY17.xlsx')\n",
    "df_2018 = pd.read_excel('./Disclosure Files/PWD_Disclosure_Data_FY2018_EOY.xlsx')\n",
    "df_2019 = pd.read_excel('./Disclosure Files/PW_Disclosure_Data_FY2019.xlsx')\n",
    "df_2020 = pd.read_excel('./Data Set/Disclosure Files/PW_Disclosure_Data_FY2020.xlsx')\n",
    "df_2020_ws = pd.read_excel('./Disclosure Files/PW_Worksites_FY2020.xlsx')"
   ]
  },
  {
   "cell_type": "code",
   "execution_count": null,
   "id": "d8c5942c",
   "metadata": {},
   "outputs": [],
   "source": [
    "# Selecting the columns common to all the years data\n",
    "\n",
    "df_2012 = df_2012.loc[:,['CASE_NUMBER','PW_DETERMINATION_DATE','VISA_CLASS','CASE_STATUS','EMPLYER_LEGAL_BUSINESS_NAME','EMPLOYER_CITY','EMPLOYER_STATE','PRIMARY_EDUCATION_LEVEL','EMP_EXPERIENCE_MONTHS','PRIMARY_WORKSITE_CITY','PRIMARY_WORKSITE_STATE','PWD_WAGE_RATE','PWD_SOC_CODE_TITLE']]\n",
    "df_2013 = df_2013.loc[:,['CASE_NUMBER','PW_DETERM_DATE','VISA_CLASS','CASE_STATUS','EMPLOYER_LEGAL_BUSINESS_NAME','EMPLOYER_CITY','EMPLOYER_STATE','PRIMARY_EDUCATION_LEVEL','EMP_EXPERIENCE_MONTHS','PRIMARY_WORKSITE_CITY','PRIMARY_WORKSITE_STATE','PWD_WAGE_RATE','PWD_SOC_TITLE']]\n",
    "df_2014 = df_2014.loc[:,['CASE_NUMBER','PW_DETERMINATION_DATE','VISA_CLASS','CASE_STATUS','EMPLOYER_LEGAL_BUSINESS_NAME','EMPLOYER CITY','EMPLOYER STATE','PRIMARY_EDUCATION_LEVEL','EMP_EXPERIENCE_MONTHS','PRIMARY_WORKSITE_CITY','PRIMARY_WORKSITE_STATE','PWD_WAGE_RATE','PWD_SOC_TITLE']]\n",
    "df_2015 = df_2015.loc[:,['CASE_NUMBER','DETERMINATION_ISSUED','VISA_CLASS','STATUS','BUSINESS_NAME','EMPLOYER CITY','EMPLOYER STATE','EDUCATION_LEVEL','EMP_EXP_NUM_MONTHS','WORKSITE_CITY','WORKSITE_STATE','PREVAIL_WAGE','JOB_TITLE']]\n",
    "df_2016 = df_2016.loc[:,['CASE_NUMBER','DETERMINATION_DATE','VISA_CLASS','CASE_STATUS','BUSINESS_NAME','EMPLOYER_CITY','EMPLOYER_STATE','PRIMARY_EDUCATION_LEVEL','EMP_EXPERIENCE_MONTHS','PRIMARY_WORKSITE_CITY','PRIMARY_WORKSITE_STATE','PWD_WAGE_RATE','PWD_SOC_TITLE']]\n",
    "df_2017 = df_2017.loc[:,['CASE_NUMBER','DETERMINATION_DATE','VISA_CLASS','CASE_STATUS','BUSINESS_NAME','EMPLOYER_CITY','EMPLOYER_STATE','PRIMARY_EDUCATION_LEVEL','EMP_EXPERIENCE_MONTHS','PRIMARY_WORKSITE_CITY','PRIMARY_WORKSITE_STATE','PWD_WAGE_RATE','PWD_SOC_TITLE']]\n",
    "df_2018 = df_2018.loc[:,['CASE_NUMBER','DETERMINATION_DATE','VISA_CLASS','CASE_STATUS','BUSINESS_NAME','EMPLOYER _CITY','EMPLOYER _STATE','PRIMARY_EDUCATION_LEVEL','EMP_EXPERIENCE_MONTHS','PRIMARY_WORKSITE_CITY','PRIMARY_WORKSITE_STATE','PWD_WAGE_RATE','PWD_SOC_TITLE']]\n",
    "df_2019 = df_2019.loc[:,['CASE_NUMBER','DETERMINATION_DATE','VISA_CLASS','CASE_STATUS','BUSINESS_NAME','EMPLOYER_CITY','EMPLOYER_STATE','PRIMARY_EDUCATION_LEVEL','EMP_EXPERIENCE_MONTHS','PRIMARY_WORKSITE_CITY','PRIMARY_WORKSITE_STATE','PWD_WAGE_RATE','PWD_SOC_TITLE']]\n",
    "df_2020 = df_2020.loc[:,['CASE_NUMBER','DETERMINATION_DATE','VISA_CLASS','CASE_STATUS','EMPLOYER_LEGAL_BUSINESS_NAME','EMPLOYER_CITY','EMPLOYER_STATE','PRIMARY_EDUCATION_LEVEL','EMP_EXPERIENCE_MONTHS','PRIMARY_WORKSITE_CITY','PRIMARY_WORKSITE_STATE','PWD_WAGE_RATE','PWD_SOC_TITLE']]"
   ]
  },
  {
   "cell_type": "code",
   "execution_count": null,
   "id": "8bc52f97",
   "metadata": {},
   "outputs": [],
   "source": [
    "# Creating final list of columns\n",
    "\n",
    "final_col_names = ['CASE_NUMBER','DETERMINATION_DATE','VISA_CLASS','CASE_STATUS','EMPLYER_LEGAL_BUSINESS_NAME','EMPLOYER_CITY','EMPLOYER_STATE','PRIMARY_EDUCATION_LEVEL','EMP_EXPERIENCE_MONTHS','PRIMARY_WORKSITE_CITY','PRIMARY_WORKSITE_STATE','WAGE_RATE','JOB_TITLE']"
   ]
  },
  {
   "cell_type": "code",
   "execution_count": null,
   "id": "3bcb6835",
   "metadata": {},
   "outputs": [],
   "source": [
    "# Renaming the those columns in the data frames dedicated to each year\n",
    "\n",
    "df_2012 = pd.DataFrame(df_2012.values,columns=final_col_names)\n",
    "df_2013 = pd.DataFrame(df_2013.values,columns=final_col_names)\n",
    "df_2014 = pd.DataFrame(df_2014.values,columns=final_col_names)\n",
    "df_2015 = pd.DataFrame(df_2015.values,columns=final_col_names)\n",
    "df_2016 = pd.DataFrame(df_2016.values,columns=final_col_names)\n",
    "df_2017 = pd.DataFrame(df_2017.values,columns=final_col_names)\n",
    "df_2018 = pd.DataFrame(df_2018.values,columns=final_col_names)\n",
    "df_2019 = pd.DataFrame(df_2019.values,columns=final_col_names)\n",
    "df_2020 = pd.DataFrame(df_2020.values,columns=final_col_names)"
   ]
  },
  {
   "cell_type": "code",
   "execution_count": null,
   "id": "cc2002b6",
   "metadata": {},
   "outputs": [],
   "source": [
    "# Merging the data from all the years to create final data set\n",
    "\n",
    "df = pd.concat([df_2012,df_2013,df_2014,df_2015,df_2016,df_2017,df_2018,df_2019,df_2020])"
   ]
  },
  {
   "cell_type": "code",
   "execution_count": null,
   "id": "35a92b43",
   "metadata": {},
   "outputs": [],
   "source": [
    "# Exporting the final data set in CSV form\n",
    "\n",
    "df.to_csv('final_df.csv',index=False)"
   ]
  },
  {
   "cell_type": "code",
   "execution_count": null,
   "id": "52e01c48",
   "metadata": {},
   "outputs": [],
   "source": [
    "# Importing final data set\n",
    "\n",
    "df = pd.read_csv('final_df.csv')"
   ]
  },
  {
   "cell_type": "code",
   "execution_count": null,
   "id": "afb752e5",
   "metadata": {},
   "outputs": [],
   "source": [
    "# The final data set\n",
    "\n",
    "df.head()"
   ]
  },
  {
   "cell_type": "markdown",
   "id": "f4d79657",
   "metadata": {},
   "source": [
    "## Data Preprocessing and Cleaning:"
   ]
  },
  {
   "cell_type": "code",
   "execution_count": null,
   "id": "2e25ec3f",
   "metadata": {},
   "outputs": [],
   "source": [
    "df = df.dropna(subset = ['DETERMINATION_DATE', 'EMPLYER_LEGAL_BUSINESS_NAME', 'EMPLOYER_CITY', 'EMPLOYER_STATE', \n",
    "                         'PRIMARY_EDUCATION_LEVEL', 'PRIMARY_WORKSITE_CITY', 'PRIMARY_WORKSITE_STATE', 'WAGE_RATE', 'JOB_TITLE'])"
   ]
  },
  {
   "cell_type": "code",
   "execution_count": null,
   "id": "3aaa6e0c",
   "metadata": {},
   "outputs": [],
   "source": [
    "df = df.drop_duplicates()"
   ]
  },
  {
   "cell_type": "code",
   "execution_count": null,
   "id": "1b30a959",
   "metadata": {},
   "outputs": [],
   "source": [
    "df['EMP_EXPERIENCE_MONTHS'].fillna(0)"
   ]
  },
  {
   "cell_type": "code",
   "execution_count": null,
   "id": "6672466a",
   "metadata": {},
   "outputs": [],
   "source": [
    "df['CASE_STATUS'] = df['CASE_STATUS'].str.title()"
   ]
  },
  {
   "cell_type": "code",
   "execution_count": null,
   "id": "afc48d9a",
   "metadata": {},
   "outputs": [],
   "source": [
    "df['CASE_STATUS'] = df['CASE_STATUS'].apply(lambda x: 'Center Director Review Modified Determination' if x == 'Center Director Review - Modified Determination' else x)\n",
    "df['CASE_STATUS'] = df['CASE_STATUS'].apply(lambda x: 'Center Director Review Affirmed Determination' if x == 'Center Director Review - Affirmed Determination' else x)"
   ]
  },
  {
   "cell_type": "code",
   "execution_count": null,
   "id": "b4a51839",
   "metadata": {},
   "outputs": [],
   "source": [
    "states = {'MARSHALL ISLANDS' : 'MARSHALL ISLANDS', 'AL' : 'Alabama', 'VERMONT':'Vermont', 'NEBRASKA':'Nebraska', 'CONNECTICUT':'Connecticut', 'NEW MEXICO':'New Mexico', 'RHODE ISLAND':'Rhode Island', 'SC':'South Carolina', 'NEVADA':'Nevada', 'OH':'Ohio', 'WISCONSIN':'Wisconsin', 'COLORADO':'Colorado', 'SD':'South Dakota', 'CT':'Connecticut', 'MT':'Montana', 'NORTH CAROLINA':'North Carolina', 'LA':'Louisiana', 'NH':'New Hampshire', 'ND':'North Dakota', 'HI':'Hawaii', 'PW':'PW', 'PALAU':'Palau', 'ALASKA':'Alaska', 'WEST VIRGINIA':'West Virginia', 'PR':'Puerto Rico', 'MISSOURI':'Missouri', 'VIRGINIA':'Virginia', 'UTAH':'Utah', 'MO':'Missouri', 'NE':'Nebraska', 'OKLAHOMA':'Oklahoma', 'VT':'Vermont', 'ARKANSAS':'Arkansas', 'NORTHERN MARIANA ISLANDS':'NORTHERN MARIANA ISLANDS', 'NEW YORK':'New York', 'FLORIDA':'Florida', 'PUERTO RICO':'Puerto Rico', 'TN':'Tennessee', 'ALABAMA':'Alabama', 'MS':'Missouri', 'SOUTH CAROLINA':'South Carolina', 'NC':'North Carolina', 'GU':'GU', 'NV':'Nevada', 'KANSAS':'Kansas', 'MINNESOTA':'Minnesota', 'NEW JERSEY':'New Jersey', 'CA':'California', 'VIRGIN ISLANDS':'Virgin Islands', 'KS':'Kansas', 'WASHINGTON':'Washington', 'TX':'Texas', 'IL':'Illinois', 'RI':'Rhode Island', 'WA':'Washington', 'NEW HAMPSHIRE':'New Hampshire', 'IDAHO':'Idaho', 'KY':'Kentucky', 'IN':'Indiana', 'MONTANA':'Montana', 'LOUISIANA':'Louisiana', 'FM':'FM', 'MD':'Maryland', 'VI':'Virgin Islands', 'OHIO':'Ohio', 'NY':'New York', 'OK':'Oklahoma', 'KENTUCKY':'Kentucky', 'AK':'Alaska', 'UT':'Utah', 'ILLINOIS':'Illinois', 'DELAWARE':'Delaware', 'SOUTH DAKOTA':'South Dakota', 'ARIZONA':'Arizona', 'NORTH DAKOTA':'North Dakota', 'WY':'Wyoming', 'WV':'West Virginia', 'MASSACHUSETTS':'Massachusetts', 'NM':'New Mexico', 'AZ':'Arizona', 'CALIFORNIA':'California', 'DISTRICT OF COLUMBIA':'District of Columbia', 'MN':'Minnesota', 'GEORGIA':'Georgia', 'FL':'Florida', 'TEXAS':'Texas', 'PENNSYLVANIA':'Pennsylvania', 'AR':'Arkansas', 'DC':'District of Columbia', 'HAWAII':'Hawaii', 'GA':'Georgia', 'DE':'Delaware', 'MISSISSIPPI':'Mississippi', 'MAINE':'Maine', 'ME':'Maine', 'WYOMING':'Wyoming', 'PA':'Pennsylvania', 'MP':'NORTHERN MARIANA ISLANDS', 'NJ':'New Jersey', 'OR':'Oregon', 'GUAM':'Guam', 'TENNESSEE':'Tennessee', 'OREGON':'Oregon', 'ID':'Idaho', 'MA':'Massachusetts', 'MI':'Michigan', 'WI':'Wisconsin', 'VA':'Virginia', 'IA':'Iowa', 'MICHIGAN':'Michigan', 'CO':'Colorado', 'MARYLAND':'Maryland', 'IOWA':'Iowa', 'INDIANA':'Indiana'}"
   ]
  },
  {
   "cell_type": "code",
   "execution_count": null,
   "id": "03880c0f",
   "metadata": {},
   "outputs": [],
   "source": [
    "df['PRIMARY_WORKSITE_STATE'] = df['PRIMARY_WORKSITE_STATE'].apply(lambda x: states[x])"
   ]
  },
  {
   "cell_type": "code",
   "execution_count": null,
   "id": "9684a634",
   "metadata": {},
   "outputs": [],
   "source": [
    "df['EMPLOYER_STATE'] = df['EMPLOYER_STATE'].apply(lambda x: states[x])"
   ]
  },
  {
   "cell_type": "code",
   "execution_count": null,
   "id": "d46fb3c8",
   "metadata": {},
   "outputs": [],
   "source": [
    "usa_states = {'Alabama':'AL','Alaska':'AK','Arizona':'AZ','Arkansas':'AR','California':'CA','Canal Zone':'CZ','Colorado':'CO','Connecticut':'CT','Delaware':'DE','District of Columbia':'DC','Florida':'FL','Georgia':'GA','Guam':'GU','Hawaii':'HI','Idaho':'ID','Illinois':'IL','Indiana':'IN','Iowa':'IA','Kansas':'KS','Kentucky':'KY','Louisiana':'LA','Maine':'ME','Maryland':'MD','Massachusetts':'MA','Michigan':'MI','Minnesota':'MN','Mississippi':'MS','Missouri':'MO','Montana':'MT','Nebraska':'NE','Nevada':'NV','New Hampshire':'NH','New Jersey':'NJ','New Mexico':'NM','New York':'NY','North Carolina':'NC','North Dakota':'ND','Ohio':'OH','Oklahoma':'OK','Oregon':'OR','Pennsylvania':'PA','Puerto Rico':'PR','Rhode Island':'RI','South Carolina':'SC','South Dakota':'SD','Tennessee':'TN','Texas':'TX','Utah':'UT','Vermont':'VT','Virgin Islands':'VI','Virginia':'VA','Washington':'WA','West Virginia':'WV','Wisconsin':'WI','Wyoming':'WY','NORTHERN MARIANA ISLANDS':'NORTHERN MARIANA ISLANDS','MARSHALL ISLANDS' : 'MARSHALL ISLANDS'}"
   ]
  },
  {
   "cell_type": "code",
   "execution_count": null,
   "id": "a5bd27d8",
   "metadata": {},
   "outputs": [],
   "source": [
    "df['US_STATE_ABV'] = df['PRIMARY_WORKSITE_STATE'].map(usa_states)"
   ]
  },
  {
   "cell_type": "code",
   "execution_count": null,
   "id": "bead6ef6",
   "metadata": {},
   "outputs": [],
   "source": [
    "df['YEAR'] = pd.DatetimeIndex(df['DETERMINATION_DATE']).year.astype(int)"
   ]
  },
  {
   "cell_type": "code",
   "execution_count": null,
   "id": "ecd42d5a",
   "metadata": {},
   "outputs": [],
   "source": [
    "df.info()"
   ]
  },
  {
   "cell_type": "markdown",
   "id": "0ede47ef",
   "metadata": {},
   "source": [
    "## Data Visualization:"
   ]
  },
  {
   "cell_type": "markdown",
   "id": "c1617b8e",
   "metadata": {},
   "source": [
    "### Number of Applicants Across Years:"
   ]
  },
  {
   "cell_type": "code",
   "execution_count": null,
   "id": "8c9c861a",
   "metadata": {},
   "outputs": [],
   "source": [
    "df['VISA_CLASS'].value_counts()"
   ]
  },
  {
   "cell_type": "code",
   "execution_count": null,
   "id": "cd443527",
   "metadata": {},
   "outputs": [],
   "source": [
    "years = list(range(2011,2021))\n",
    "yr = df.groupby(['VISA_CLASS','YEAR']).count()['CASE_NUMBER'].reset_index().sort_values('YEAR').reset_index(drop=True)\n",
    "classes = set(yr.VISA_CLASS)\n",
    "\n",
    "data = {'YEAR' : years}\n",
    "for i in classes:\n",
    "    l = []\n",
    "    for j in years:\n",
    "        try:\n",
    "            val = yr[yr['VISA_CLASS'] == i][yr['YEAR'] == j]['CASE_NUMBER'].iloc[0]\n",
    "        except:\n",
    "            val = 0\n",
    "        l.append(val)\n",
    "    data[i] = l\n",
    "temp = pd.DataFrame(data)"
   ]
  },
  {
   "cell_type": "code",
   "execution_count": null,
   "id": "4fc58a35",
   "metadata": {
    "scrolled": false
   },
   "outputs": [],
   "source": [
    "l = np.array([0]*10)\n",
    "colors = ['b','lightblue','teal','coral']\n",
    "plt.figure(figsize = (20, 10))\n",
    "\n",
    "plt.title('Number of Applicants Across Years', fontsize = 18, fontweight = 'bold')\n",
    "plt.ylabel('Number of Applications', fontsize = 14)\n",
    "plt.xlabel('Years', fontsize = 14)\n",
    "plt.xticks([2011, 2012, 2013, 2014, 2015, 2016, 2017, 2018, 2019, 2020], fontsize = 12)\n",
    "plt.yticks(fontsize = 12)\n",
    "plt.ylim(0, 180000)\n",
    "\n",
    "for i,j in zip(['H-1B','PERM','H-2B','CW-1'],colors):\n",
    "    plt.bar(temp['YEAR'],temp[i],bottom=l,color=j)\n",
    "    l += np.array(temp[i])\n",
    "    \n",
    "plt.legend(['H-1B','PERM','H-2B','CW-1'])\n",
    "\n",
    "plt.show()"
   ]
  },
  {
   "cell_type": "markdown",
   "id": "9127f566",
   "metadata": {},
   "source": [
    "### Average Wage Rate across all VISA Classes:"
   ]
  },
  {
   "cell_type": "code",
   "execution_count": null,
   "id": "1abd474f",
   "metadata": {},
   "outputs": [],
   "source": [
    "df_MinWage = df.groupby('YEAR')['WAGE_RATE'].mean().reset_index()"
   ]
  },
  {
   "cell_type": "code",
   "execution_count": null,
   "id": "5d8626c9",
   "metadata": {},
   "outputs": [],
   "source": [
    "m = df_MinWage['WAGE_RATE'].max()\n",
    "v = df_MinWage[df_MinWage['WAGE_RATE'] == m]"
   ]
  },
  {
   "cell_type": "code",
   "execution_count": null,
   "id": "58d6ae08",
   "metadata": {},
   "outputs": [],
   "source": [
    "sns.set_style('darkgrid')\n",
    "df_MinWage.plot(kind = 'line', x = 'YEAR', y = 'WAGE_RATE', figsize=(16,8), color='red')\n",
    "\n",
    "plt.title('Average Wage Rate Across all VISA Classes from 2011 - 2020',fontsize=18,fontweight='bold')\n",
    "plt.ylabel('Average Wage Rate',fontsize=14)\n",
    "plt.xlabel('Years',fontsize=14)\n",
    "plt.xticks(fontsize=12)\n",
    "plt.yticks(fontsize=12)\n",
    "\n",
    "plt.text(2018.5, m, 'Maximum Average Wage', fontsize=14)\n",
    "\n",
    "bbox = dict(boxstyle =\"round\", fc = 'None')\n",
    "\n",
    "arrowprops = dict(\n",
    "    arrowstyle = \"->\",\n",
    "    connectionstyle = \"angle, angleA = 0, angleB = 90,\\\n",
    "    rad = 10\", color = 'black')\n",
    "  \n",
    "offset = -70\n",
    "\n",
    "xdata, ydata = v['YEAR'].iloc[0], m\n",
    "\n",
    "plt.annotate((v['YEAR'].iloc[0],m),\n",
    "            (xdata, ydata), xytext =(2 * offset, 4 * offset),\n",
    "            textcoords ='offset points',\n",
    "            bbox = bbox, arrowprops = arrowprops)\n",
    "\n",
    "plt.show()"
   ]
  },
  {
   "cell_type": "markdown",
   "id": "4ad0a4d7",
   "metadata": {},
   "source": [
    "### Distribution of the number of applications across US States"
   ]
  },
  {
   "cell_type": "code",
   "execution_count": null,
   "id": "6d744b81",
   "metadata": {},
   "outputs": [],
   "source": [
    "df_state_cases = df.groupby(by=['PRIMARY_WORKSITE_STATE','US_STATE_ABV','YEAR'])['CASE_NUMBER'].count().reset_index()\n",
    "df_state_cases.head()"
   ]
  },
  {
   "cell_type": "code",
   "execution_count": null,
   "id": "b3b90318",
   "metadata": {},
   "outputs": [],
   "source": [
    "fig = go.Figure(data=go.Choropleth(\n",
    "    locations=df_state_cases['US_STATE_ABV'], # Spatial coordinates\n",
    "    z = df_state_cases['CASE_NUMBER'], # Data to be color-coded\n",
    "    locationmode = 'USA-states', # set of locations match entries in `locations`\n",
    "    colorscale = 'Reds',\n",
    "    colorbar_title = \"Total Number of Applications\",\n",
    "))\n",
    "\n",
    "fig.update_layout(\n",
    "    title_text = 'Distribution of Number of Wage Applications across US States',\n",
    "    geo_scope='usa', # limited map scope to USA\n",
    ")\n",
    "\n",
    "fig.show()"
   ]
  },
  {
   "cell_type": "markdown",
   "id": "af3e5d67",
   "metadata": {},
   "source": [
    "### Distribution of the number of applications across US States:"
   ]
  },
  {
   "cell_type": "code",
   "execution_count": null,
   "id": "774202c8",
   "metadata": {},
   "outputs": [],
   "source": [
    "usa_geo = r'USGeodata.json'"
   ]
  },
  {
   "cell_type": "code",
   "execution_count": null,
   "id": "014c1bf9",
   "metadata": {},
   "outputs": [],
   "source": [
    "world_map = folium.Map(location=[48,-102],zoom_start=2.5)"
   ]
  },
  {
   "cell_type": "code",
   "execution_count": null,
   "id": "3b97e82f",
   "metadata": {},
   "outputs": [],
   "source": [
    "df_state_wage = df.groupby(by='PRIMARY_WORKSITE_STATE')['WAGE_RATE'].mean().reset_index()\n",
    "df_state_wage['WAGE_RATE'] = round(df_state_wage['WAGE_RATE'], 0)"
   ]
  },
  {
   "cell_type": "code",
   "execution_count": null,
   "id": "0e8bc08e",
   "metadata": {},
   "outputs": [],
   "source": [
    "world_map.choropleth(geo_data = usa_geo,\n",
    "                    data = df_state_wage,\n",
    "                    columns=['PRIMARY_WORKSITE_STATE','WAGE_RATE'],\n",
    "                    key_on = 'feature.properties.name',\n",
    "                    fill_color = 'YlOrRd',\n",
    "                    fill_capacity=0.7,\n",
    "                    Highlight= True,\n",
    "                    legend_name = \"Average Wage Rate Range\")\n",
    "world_map"
   ]
  },
  {
   "cell_type": "markdown",
   "id": "aa7c610b",
   "metadata": {},
   "source": [
    "### Trend of number of applications from 2011-2020"
   ]
  },
  {
   "cell_type": "code",
   "execution_count": null,
   "id": "d2d90fd1",
   "metadata": {},
   "outputs": [],
   "source": [
    "px.choropleth(df_state_cases, \n",
    "              locations = 'US_STATE_ABV',\n",
    "              color=\"CASE_NUMBER\", \n",
    "              animation_frame=\"YEAR\",\n",
    "              color_continuous_scale=\"YlOrRd\",\n",
    "              locationmode='USA-states',\n",
    "              scope=\"usa\",\n",
    "              title='Trend of Number of Applications from 2011-2020',\n",
    "              height=600\n",
    "             )"
   ]
  },
  {
   "cell_type": "markdown",
   "id": "c965fa9e",
   "metadata": {},
   "source": [
    "### Average Experience in Months for each Prevailing wage Class"
   ]
  },
  {
   "cell_type": "code",
   "execution_count": null,
   "id": "0d03fbdd",
   "metadata": {},
   "outputs": [],
   "source": [
    "df_VisaExp = df.groupby('VISA_CLASS')['EMP_EXPERIENCE_MONTHS'].mean().reset_index()"
   ]
  },
  {
   "cell_type": "code",
   "execution_count": null,
   "id": "e8f5d88c",
   "metadata": {},
   "outputs": [],
   "source": [
    "fig = px.bar(df_VisaExp, x = \"EMP_EXPERIENCE_MONTHS\", color = \"VISA_CLASS\", \n",
    "       title = \"Average Experience in Months for each Visa Class\", color_discrete_sequence = px.colors.qualitative.Vivid,\n",
    "    labels = dict(index = \"Visa Class\", EMP_EXPERIENCE_MONTHS = \"Average Experience (Months)\", VISA_CLASS = \"Visa Class\"))\n",
    "fig.update_layout(font_family = \"Rockwell\")\n",
    "fig.show()"
   ]
  },
  {
   "cell_type": "markdown",
   "id": "18850e38",
   "metadata": {},
   "source": [
    "### Case status Distribution for case numbers: Prevailing wage Class"
   ]
  },
  {
   "cell_type": "code",
   "execution_count": null,
   "id": "d92ad345",
   "metadata": {},
   "outputs": [],
   "source": [
    "df_CaseStat = df.groupby(by=['CASE_STATUS'])['CASE_NUMBER'].count().reset_index()\n",
    "df_Case = df_CaseStat[df_CaseStat['CASE_STATUS'] != 'Determination Issued']\n",
    "df_Case"
   ]
  },
  {
   "cell_type": "code",
   "execution_count": null,
   "id": "246836ca",
   "metadata": {},
   "outputs": [],
   "source": [
    "fig = px.scatter(df_Case, x = \"CASE_NUMBER\", y = \"CASE_STATUS\", hover_name = \"CASE_STATUS\",\n",
    "                  color = \"CASE_STATUS\", size = \"CASE_NUMBER\",\n",
    "                 size_max = 100, template = \"simple_white\", title = \"Trend of Case Status\", \n",
    "                 range_x=[0,10000],color_discrete_sequence = px.colors.qualitative.G10)\n",
    "\n",
    "fig.update_layout(font_family = \"Rockwell\",legend = dict(orientation = \"h\", title = \"\", y = 1.1, x = 1, xanchor = \"right\", yanchor = \"bottom\"))\n",
    "fig.show()"
   ]
  },
  {
   "cell_type": "markdown",
   "id": "2e38c46b",
   "metadata": {},
   "source": [
    "### Education Level Distribution for Prevailing Wage Class"
   ]
  },
  {
   "cell_type": "code",
   "execution_count": null,
   "id": "4e21be79",
   "metadata": {},
   "outputs": [],
   "source": [
    "df_PrimEdu = df[df.PRIMARY_EDUCATION_LEVEL != 'None']\n",
    "df_PrimEdu['PRIMARY_EDUCATION_LEVEL'].replace(\n",
    "    {'Other degree (JD, MD, etc.)': 'Other Degree', 'Other Degree (JD, MD, etc.)': 'Other Degree', \n",
    "     'High School/GED ':'High School/GED'}, inplace=True)\n",
    "df_PrimEdu = df_PrimEdu[df_PrimEdu.PRIMARY_EDUCATION_LEVEL != 'Other Degree']\n",
    "df_PrimEdu['PRIMARY_EDUCATION_LEVEL'].dropna()"
   ]
  },
  {
   "cell_type": "code",
   "execution_count": null,
   "id": "ef518db8",
   "metadata": {},
   "outputs": [],
   "source": [
    "df_Edu = df_PrimEdu.groupby('PRIMARY_EDUCATION_LEVEL')['CASE_NUMBER'].count().reset_index()\n",
    "df_Edu.rename(columns = {'CASE_NUMBER' : 'Total Number of Applications'}, inplace = True)"
   ]
  },
  {
   "cell_type": "code",
   "execution_count": null,
   "id": "bd5b9b5a",
   "metadata": {
    "scrolled": false
   },
   "outputs": [],
   "source": [
    "colors_list = ['gold', 'yellowgreen', 'lightcoral', 'lightskyblue', 'navy']\n",
    "explode_list = [0.1, 0.1, 0.1, 0.1, 0.1]\n",
    "textprops = {\"fontsize\":14}\n",
    "\n",
    "df_Edu['Total Number of Applications'].plot(kind='pie', figsize=(16, 8), autopct='%1.1f%%',\n",
    "                            startangle=90, shadow=True,  labels=None, y = \"Total Number of Applications\",\n",
    "                            pctdistance = 1.12, colors=colors_list, explode = explode_list, textprops=textprops)\n",
    "\n",
    "plt.title('Education Level Distribution for Wage Applications across Years', y = 1.12, fontsize = 18, fontweight = 'bold')\n",
    "plt.axis('equal')\n",
    "plt.ylabel('Total Number of Applications', fontsize = 14)\n",
    "plt.legend(labels = df_Edu['PRIMARY_EDUCATION_LEVEL'], loc='upper left')\n",
    "\n",
    "plt.show()"
   ]
  },
  {
   "cell_type": "markdown",
   "id": "c74ec270",
   "metadata": {},
   "source": [
    "### Proportion of Wage Applications and Visa Classes US State-wise:"
   ]
  },
  {
   "cell_type": "code",
   "execution_count": null,
   "id": "b0c9621d",
   "metadata": {},
   "outputs": [],
   "source": [
    "df_EmpState = df.groupby(by = [\"VISA_CLASS\", \"CASE_STATUS\", \"EMPLOYER_STATE\"])['CASE_NUMBER'].count().reset_index()\n",
    "df_EmpState = df_EmpState[df_EmpState['CASE_STATUS'] != 'Determination Issued']\n",
    "df_EmpState.rename(columns={'CASE_NUMBER':'Total Number of Applications'},inplace=True)"
   ]
  },
  {
   "cell_type": "code",
   "execution_count": null,
   "id": "6e09bb3f",
   "metadata": {},
   "outputs": [],
   "source": [
    "px.sunburst(df_EmpState, values = \"Total Number of Applications\", color = \"Total Number of Applications\", \n",
    "            path = [\"VISA_CLASS\", \"CASE_STATUS\", \"EMPLOYER_STATE\"], color_continuous_scale = \"RdBu\")"
   ]
  },
  {
   "cell_type": "markdown",
   "id": "05e3c56a",
   "metadata": {},
   "source": [
    "### Distribution of the Count of Wage Applications across the Globe in 2020"
   ]
  },
  {
   "cell_type": "code",
   "execution_count": null,
   "id": "1015bbeb",
   "metadata": {},
   "outputs": [],
   "source": [
    "df_2020 = pd.read_excel('./Data Set/Disclosure Files/PW_Disclosure_Data_FY2020.xlsx')"
   ]
  },
  {
   "cell_type": "code",
   "execution_count": null,
   "id": "b3e03d98",
   "metadata": {},
   "outputs": [],
   "source": [
    "df_2020 = df_2020.loc[:,['CASE_NUMBER','CASE_STATUS','VISA_CLASS','REQUESTOR_POC_COUNTRY']]\n",
    "df_2020.head()"
   ]
  },
  {
   "cell_type": "code",
   "execution_count": null,
   "id": "c0bd801a",
   "metadata": {},
   "outputs": [],
   "source": [
    "df_2020_VisaDist = df_2020.groupby(by = [\"REQUESTOR_POC_COUNTRY\"])['CASE_NUMBER'].count().reset_index()"
   ]
  },
  {
   "cell_type": "code",
   "execution_count": null,
   "id": "7fbf1091",
   "metadata": {},
   "outputs": [],
   "source": [
    "df_2020_VisaDist['REQUESTOR_POC_COUNTRY'] = df_2020_VisaDist['REQUESTOR_POC_COUNTRY'].str.title()\n",
    "df_2020_VisaDist.rename(columns={'CASE_NUMBER' : 'Total Number of Applications'}, inplace = True)"
   ]
  },
  {
   "cell_type": "code",
   "execution_count": null,
   "id": "3f0740fa",
   "metadata": {},
   "outputs": [],
   "source": [
    "abr = ['AFG','ARG','AUS','BRA','CAN','CHL','CHN','COL','HRV','GEO','DDR','IND','ISR','JAM','MEX','MDA','NOR','PAK','PHL','KNA','SRB','UKR','UAE','GBR','USA','VEN']\n",
    "iso_alpha = pd.DataFrame(abr)\n",
    "iso_alpha.rename(columns={0:'iso_alpha'},inplace=True)"
   ]
  },
  {
   "cell_type": "code",
   "execution_count": null,
   "id": "2a8abcec",
   "metadata": {},
   "outputs": [],
   "source": [
    "frames = [df_2020_VisaDist,iso_alpha]\n",
    "df_2020_VisaDist_plot = pd.concat(frames,axis=1)\n",
    "df_2020_VisaDist_plot.head()"
   ]
  },
  {
   "cell_type": "code",
   "execution_count": null,
   "id": "99447c0d",
   "metadata": {},
   "outputs": [],
   "source": [
    "fig = px.choropleth(df_2020_VisaDist_plot,locations='iso_alpha',hover_name = 'REQUESTOR_POC_COUNTRY',\n",
    "              color='Total Number of Applications',height=500)\n",
    "fig.update_layout(\n",
    "    title_text='Distribution of the Count of Wage Applications across the Globe in 2020',\n",
    "    geo=dict(\n",
    "        showframe=False,\n",
    "        showcoastlines=False,\n",
    "        projection_type='equirectangular'\n",
    "    ),\n",
    "    annotations = [dict(\n",
    "        x=0.55,\n",
    "        y=0.1,\n",
    "        xref='paper',\n",
    "        yref='paper',\n",
    "        text='Source: <a href=\"https://www.cia.gov/library/publications/the-world-factbook/fields/2195.html\">\\\n",
    "            CIA World Factbook</a>',\n",
    "        showarrow = False\n",
    "    )]\n",
    ")"
   ]
  }
 ],
 "metadata": {
  "kernelspec": {
   "display_name": "Python 3 (ipykernel)",
   "language": "python",
   "name": "python3"
  },
  "language_info": {
   "codemirror_mode": {
    "name": "ipython",
    "version": 3
   },
   "file_extension": ".py",
   "mimetype": "text/x-python",
   "name": "python",
   "nbconvert_exporter": "python",
   "pygments_lexer": "ipython3",
   "version": "3.9.7"
  }
 },
 "nbformat": 4,
 "nbformat_minor": 5
}
